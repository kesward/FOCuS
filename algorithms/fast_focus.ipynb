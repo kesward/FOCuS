{
 "cells": [
  {
   "cell_type": "markdown",
   "id": "bc7a0163",
   "metadata": {},
   "source": [
    "# Fast FOCuS\n",
    "\n",
    "Implementation of the fast algorithm with use of maxima checking bounds. Suitable for both Gaussian and Poisson cases."
   ]
  },
  {
   "cell_type": "code",
   "execution_count": 1,
   "id": "2dfbe916",
   "metadata": {},
   "outputs": [],
   "source": [
    "import numpy as np\n",
    "from scipy import stats\n",
    "import matplotlib.pyplot as plt\n",
    "from itertools import accumulate"
   ]
  },
  {
   "cell_type": "code",
   "execution_count": 74,
   "id": "a4c171f8",
   "metadata": {},
   "outputs": [
    {
     "data": {
      "text/plain": [
       "(0, 0, None)"
      ]
     },
     "execution_count": 74,
     "metadata": {},
     "output_type": "execute_result"
    }
   ],
   "source": [
    "class GaussianQuadratic:\n",
    "    #Quadratics for the Gaussian case\n",
    "    def __init__(self, a, b, τ):\n",
    "        self.a = a\n",
    "        self.b = b\n",
    "        self.τ = τ\n",
    "    \n",
    "    def __repr__(self):\n",
    "        return f'Quadratic: {self.a}μ^2+{np.round(self.b, 2)}μ, τ={self.τ}'\n",
    "    \n",
    "    def __add__(self, other_quadratic):\n",
    "        return GaussianQuadratic(self.a+other_quadratic.a, self.b+other_quadratic.b, self.τ)\n",
    "    \n",
    "    def evaluate(self, μ):\n",
    "        return np.maximum(self.a*μ**2 + self.b*μ, 0)\n",
    "    \n",
    "    def ymax(self):\n",
    "        if self.b<=0:\n",
    "            return 0\n",
    "        else:\n",
    "            return -self.b**2/(4*self.a) \n",
    "    \n",
    "    def xmax(self):\n",
    "        if self.b<=0:\n",
    "            return 0\n",
    "        else:\n",
    "            return -self.b/(2*self.a)\n",
    "\n",
    "def FOCuS_Gaussian(X, threshold, μ_min=0):\n",
    "    min_parameter=μ_min/2\n",
    "    \n",
    "    curve_difference_list = [GaussianQuadratic(a=0, b=0, τ=0)]\n",
    "    sum_of_maxima_list = [0]\n",
    "    final_curve = GaussianQuadratic(a=0, b=0, τ=0)\n",
    "    \n",
    "    for T in range(len(X)):\n",
    "\n",
    "        CTT = GaussianQuadratic(-1, 2*X[T], T)\n",
    "\n",
    "        #adding/pruning\n",
    "        if final_curve.xmax()<CTT.xmax():\n",
    "            curve_difference_list.append(final_curve)\n",
    "            sum_of_maxima_list.append(sum_of_maxima_list[-1]+final_curve.ymax())\n",
    "            final_curve=CTT\n",
    "        else:\n",
    "            final_curve = final_curve+CTT\n",
    "            if curve_difference_list[-1].xmax()>=final_curve.xmax():\n",
    "                final_curve=curve_difference_list.pop()+final_curve\n",
    "                sum_of_maxima_list.pop()\n",
    "                if final_curve.xmax()<=min_parameter:\n",
    "                    final_curve = GaussianQuadratic(0, 0, T+1)\n",
    "\n",
    "        #maxima checking\n",
    "        curve_being_checked=final_curve\n",
    "        for i in range(len(curve_difference_list)):\n",
    "            curve_max = curve_being_checked.ymax()\n",
    "            if curve_max + sum_of_maxima_list[-i]<threshold:\n",
    "                break\n",
    "            elif curve_max >= threshold:\n",
    "                return curve_being_checked.τ, T, curve_max #anomaly found\n",
    "            curve_being_checked=curve_difference_list[-i]+curve_being_checked\n",
    "        \n",
    "    return(0, 0, None) #no anomaly found\n",
    "\n",
    "k=5\n",
    "threshold = k**2\n",
    "X = stats.norm.rvs(size=1000)\n",
    "FOCuS_Gaussian(X, threshold)"
   ]
  },
  {
   "cell_type": "code",
   "execution_count": 24,
   "id": "e65df5a8",
   "metadata": {},
   "outputs": [],
   "source": [
    "class PoissonLogarithmCurve:\n",
    "    #Logarithmic curves for the Poisson case\n",
    "    def __init__(self, a, b, τ):\n",
    "        self.a = a\n",
    "        self.b = b\n",
    "        self.τ = τ\n",
    "    \n",
    "    def __repr__(self):\n",
    "        return f'Curve: {self.a}log(μ)-{self.b}(μ-1), τ={self.τ}'\n",
    "    \n",
    "    def __add__(self, other_quadratic):\n",
    "        return PoissonLogarithmCurve(self.a+other_quadratic.a, self.b+other_quadratic.b, self.τ)\n",
    "    \n",
    "    def ymax(self):\n",
    "        if self.a<=self.b:\n",
    "            return 0\n",
    "        else:\n",
    "            return self.a*np.log(self.a/self.b)-self.a+self.b \n",
    "    \n",
    "    def ymax_overestimate(self):\n",
    "        return\n",
    "\n",
    "def FOCuS_Poisson(X, λ, threshold, μ_min=1):\n",
    "    if np.ndim(λ)==0:#scalar\n",
    "        λ = np.full(X.shape, λ)\n",
    "        \n",
    "    if μ_min==1:\n",
    "        min_parameter=1\n",
    "    else:\n",
    "        min_parameter=(μ_min-1)/np.log(μ_min)\n",
    "    \n",
    "    curve_difference_list = []\n",
    "    sum_of_maxima_list = [0]\n",
    "    final_curve = PoissonLogarithmCurve(a=0, b=0, τ=0)\n",
    "    \n",
    "    for T in range(len(X)):\n",
    "\n",
    "        #adding/pruning\n",
    "        if final_curve.b * X[T] > final_curve.a * λ[T]:#add new curve\n",
    "            curve_difference_list.append(final_curve)\n",
    "            sum_of_maxima_list.append(sum_of_maxima_list[-1]+final_curve.ymax())\n",
    "            final_curve=PoissonLogarithmCurve(X[T], λ[T], T)\n",
    "            \n",
    "        else:#update final curve\n",
    "            final_curve = PoissonLogarithmCurve(final_curve.a+X[T], final_curve.b+λ[T], final_curve.τ)\n",
    "            if curve_difference_list:\n",
    "                if curve_difference_list[-1].a*final_curve.b >= curve_difference_list[-1].b*final_curve.a:#prune final curve\n",
    "                    final_curve=curve_difference_list.pop()+final_curve\n",
    "                    sum_of_maxima_list.pop()\n",
    "            if final_curve.a <= min_parameter * final_curve.b:\n",
    "                final_curve = PoissonLogarithmCurve(0, 0, T+1)\n",
    "\n",
    "        #maxima checking\n",
    "        curve_being_checked=final_curve\n",
    "        anomaly = None\n",
    "        for i in range(len(curve_difference_list)):\n",
    "            curve_max = curve_being_checked.ymax()\n",
    "            if curve_max + sum_of_maxima_list[-i]<threshold:\n",
    "                break #no anomaly present in rest of list\n",
    "            elif curve_max >= threshold:\n",
    "                #anomaly found! go through the whole curve list and report the best one\n",
    "                if anomaly is None:\n",
    "                    anomaly = curve_being_checked.τ, T, curve_being_checked.a/curve_being_checked.b, curve_max\n",
    "                elif curve_max > anomaly[3]: #we found a better one\n",
    "                    anomaly = curve_being_checked.τ, T, curve_being_checked.a/curve_being_checked.b, curve_max\n",
    "            \n",
    "            curve_being_checked=curve_difference_list[-i]+curve_being_checked\n",
    "        \n",
    "        if anomaly is not None:\n",
    "                return anomaly\n",
    "        \n",
    "    return(0, 0, 1, 0) #no anomaly found"
   ]
  },
  {
   "cell_type": "code",
   "execution_count": 25,
   "id": "0fb65bc1",
   "metadata": {},
   "outputs": [],
   "source": [
    "k=100\n",
    "threshold = k**2/2\n",
    "λ = 10\n",
    "X = stats.poisson(λ).rvs(size=1000)"
   ]
  },
  {
   "cell_type": "code",
   "execution_count": 29,
   "id": "4b9677a5",
   "metadata": {},
   "outputs": [
    {
     "name": "stdout",
     "output_type": "stream",
     "text": [
      "7 ms ± 0 ns per loop (mean ± std. dev. of 1 run, 2 loops each)\n"
     ]
    }
   ],
   "source": [
    "%%timeit -n2 -r1\n",
    "(τ, T, μ, S) = FOCuS_Poisson(X, λ, threshold)"
   ]
  },
  {
   "cell_type": "code",
   "execution_count": 10,
   "id": "7726be7b",
   "metadata": {},
   "outputs": [
    {
     "name": "stderr",
     "output_type": "stream",
     "text": [
      "C:\\Users\\wardk3\\AppData\\Local\\Continuum\\anaconda3\\lib\\site-packages\\ipykernel_launcher.py:2: RuntimeWarning: divide by zero encountered in long_scalars\n",
      "  \n",
      "C:\\Users\\wardk3\\AppData\\Local\\Continuum\\anaconda3\\lib\\site-packages\\ipykernel_launcher.py:2: RuntimeWarning: invalid value encountered in log\n",
      "  \n"
     ]
    },
    {
     "name": "stdout",
     "output_type": "stream",
     "text": [
      "2.94 s ± 0 ns per loop (mean ± std. dev. of 1 run, 2 loops each)\n"
     ]
    }
   ],
   "source": [
    "%%timeit -n2 -r1\n",
    "for s in range(len(X)):\n",
    "    count=0\n",
    "    for e in range(s, len(X)):\n",
    "        count += X[e]        \n",
    "        S = signif(count, (s-e+1)*λ)"
   ]
  },
  {
   "cell_type": "code",
   "execution_count": 35,
   "id": "d6372408",
   "metadata": {},
   "outputs": [],
   "source": [
    "def signif(a, b):\n",
    "    return a*np.log(a/b)-a+b\n",
    "\n",
    "def signif_overestimate(a, b):\n",
    "    return a**2/b-b"
   ]
  },
  {
   "cell_type": "code",
   "execution_count": 38,
   "id": "2b524afa",
   "metadata": {},
   "outputs": [
    {
     "data": {
      "text/plain": [
       "0.06825114099618013"
      ]
     },
     "execution_count": 38,
     "metadata": {},
     "output_type": "execute_result"
    }
   ],
   "source": [
    "signif(8, 7)"
   ]
  },
  {
   "cell_type": "code",
   "execution_count": 39,
   "id": "618f8b5a",
   "metadata": {},
   "outputs": [
    {
     "data": {
      "text/plain": [
       "2.1428571428571423"
      ]
     },
     "execution_count": 39,
     "metadata": {},
     "output_type": "execute_result"
    }
   ],
   "source": [
    "signif_overestimate(8, 7)"
   ]
  },
  {
   "cell_type": "code",
   "execution_count": 21,
   "id": "781ff1c6",
   "metadata": {},
   "outputs": [
    {
     "data": {
      "text/plain": [
       "(4.0, 1.3333333333333333)"
      ]
     },
     "execution_count": 21,
     "metadata": {},
     "output_type": "execute_result"
    }
   ],
   "source": [
    "a = 8; b = 4\n",
    "c = 1.5\n",
    "x = (a - b)/c\n",
    "y = c*(a/b)\n",
    "b = x/(y-1)\n",
    "a = x+b\n",
    "a, b\n"
   ]
  },
  {
   "cell_type": "code",
   "execution_count": null,
   "id": "eb6e76d9",
   "metadata": {},
   "outputs": [],
   "source": []
  }
 ],
 "metadata": {
  "kernelspec": {
   "display_name": "Python 3 (ipykernel)",
   "language": "python",
   "name": "python3"
  },
  "language_info": {
   "codemirror_mode": {
    "name": "ipython",
    "version": 3
   },
   "file_extension": ".py",
   "mimetype": "text/x-python",
   "name": "python",
   "nbconvert_exporter": "python",
   "pygments_lexer": "ipython3",
   "version": "3.7.3"
  }
 },
 "nbformat": 4,
 "nbformat_minor": 5
}
